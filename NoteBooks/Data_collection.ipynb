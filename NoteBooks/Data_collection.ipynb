{
  "cells": [
    {
      "cell_type": "markdown",
      "metadata": {
        "colab_type": "text",
        "id": "view-in-github"
      },
      "source": [
        "<a href=\"https://colab.research.google.com/github/zoro1324/Air-Quality-Checker-/blob/main/Data_collection.ipynb\" target=\"_parent\"><img src=\"https://colab.research.google.com/assets/colab-badge.svg\" alt=\"Open In Colab\"/></a>"
      ]
    },
    {
      "cell_type": "code",
      "execution_count": 1,
      "metadata": {},
      "outputs": [
        {
          "name": "stdout",
          "output_type": "stream",
          "text": [
            "Defaulting to user installation because normal site-packages is not writeable\n",
            "Requirement already satisfied: openaq in c:\\users\\asus\\appdata\\roaming\\python\\python313\\site-packages (0.4.0)\n",
            "Requirement already satisfied: httpx==0.28.1 in c:\\users\\asus\\appdata\\roaming\\python\\python313\\site-packages (from openaq) (0.28.1)\n",
            "Requirement already satisfied: anyio in c:\\users\\asus\\appdata\\roaming\\python\\python313\\site-packages (from httpx==0.28.1->openaq) (4.11.0)\n",
            "Requirement already satisfied: certifi in c:\\users\\asus\\appdata\\roaming\\python\\python313\\site-packages (from httpx==0.28.1->openaq) (2025.8.3)\n",
            "Requirement already satisfied: httpcore==1.* in c:\\users\\asus\\appdata\\roaming\\python\\python313\\site-packages (from httpx==0.28.1->openaq) (1.0.9)\n",
            "Requirement already satisfied: idna in c:\\users\\asus\\appdata\\roaming\\python\\python313\\site-packages (from httpx==0.28.1->openaq) (3.10)\n",
            "Requirement already satisfied: h11>=0.16 in c:\\users\\asus\\appdata\\roaming\\python\\python313\\site-packages (from httpcore==1.*->httpx==0.28.1->openaq) (0.16.0)\n",
            "Requirement already satisfied: sniffio>=1.1 in c:\\users\\asus\\appdata\\roaming\\python\\python313\\site-packages (from anyio->httpx==0.28.1->openaq) (1.3.1)\n",
            "Defaulting to user installation because normal site-packages is not writeable\n",
            "Collecting s3fs\n",
            "  Using cached s3fs-2025.9.0-py3-none-any.whl.metadata (1.4 kB)\n",
            "Collecting aiobotocore<3.0.0,>=2.5.4 (from s3fs)\n",
            "  Using cached aiobotocore-2.24.2-py3-none-any.whl.metadata (25 kB)\n",
            "Collecting fsspec==2025.9.0 (from s3fs)\n",
            "  Using cached fsspec-2025.9.0-py3-none-any.whl.metadata (10 kB)\n",
            "Collecting aiohttp!=4.0.0a0,!=4.0.0a1 (from s3fs)\n",
            "  Using cached aiohttp-3.12.15-cp313-cp313-win_amd64.whl.metadata (7.9 kB)\n",
            "Collecting aioitertools<1.0.0,>=0.5.1 (from aiobotocore<3.0.0,>=2.5.4->s3fs)\n",
            "  Using cached aioitertools-0.12.0-py3-none-any.whl.metadata (3.8 kB)\n",
            "Collecting botocore<1.40.19,>=1.40.15 (from aiobotocore<3.0.0,>=2.5.4->s3fs)\n",
            "  Using cached botocore-1.40.18-py3-none-any.whl.metadata (5.7 kB)\n",
            "Requirement already satisfied: python-dateutil<3.0.0,>=2.1 in c:\\users\\asus\\appdata\\roaming\\python\\python313\\site-packages (from aiobotocore<3.0.0,>=2.5.4->s3fs) (2.9.0.post0)\n",
            "Requirement already satisfied: jmespath<2.0.0,>=0.7.1 in c:\\users\\asus\\appdata\\roaming\\python\\python313\\site-packages (from aiobotocore<3.0.0,>=2.5.4->s3fs) (1.0.1)\n",
            "Collecting multidict<7.0.0,>=6.0.0 (from aiobotocore<3.0.0,>=2.5.4->s3fs)\n",
            "  Using cached multidict-6.6.4-cp313-cp313-win_amd64.whl.metadata (5.4 kB)\n",
            "Requirement already satisfied: wrapt<2.0.0,>=1.10.10 in c:\\users\\asus\\appdata\\roaming\\python\\python313\\site-packages (from aiobotocore<3.0.0,>=2.5.4->s3fs) (1.17.3)\n",
            "Collecting aiohappyeyeballs>=2.5.0 (from aiohttp!=4.0.0a0,!=4.0.0a1->s3fs)\n",
            "  Using cached aiohappyeyeballs-2.6.1-py3-none-any.whl.metadata (5.9 kB)\n",
            "Collecting aiosignal>=1.4.0 (from aiohttp!=4.0.0a0,!=4.0.0a1->s3fs)\n",
            "  Using cached aiosignal-1.4.0-py3-none-any.whl.metadata (3.7 kB)\n",
            "Collecting attrs>=17.3.0 (from aiohttp!=4.0.0a0,!=4.0.0a1->s3fs)\n",
            "  Using cached attrs-25.3.0-py3-none-any.whl.metadata (10 kB)\n",
            "Collecting frozenlist>=1.1.1 (from aiohttp!=4.0.0a0,!=4.0.0a1->s3fs)\n",
            "  Using cached frozenlist-1.7.0-cp313-cp313-win_amd64.whl.metadata (19 kB)\n",
            "Collecting propcache>=0.2.0 (from aiohttp!=4.0.0a0,!=4.0.0a1->s3fs)\n",
            "  Using cached propcache-0.3.2-cp313-cp313-win_amd64.whl.metadata (12 kB)\n",
            "Collecting yarl<2.0,>=1.17.0 (from aiohttp!=4.0.0a0,!=4.0.0a1->s3fs)\n",
            "  Using cached yarl-1.20.1-cp313-cp313-win_amd64.whl.metadata (76 kB)\n",
            "Requirement already satisfied: urllib3!=2.2.0,<3,>=1.25.4 in c:\\users\\asus\\appdata\\roaming\\python\\python313\\site-packages (from botocore<1.40.19,>=1.40.15->aiobotocore<3.0.0,>=2.5.4->s3fs) (2.5.0)\n",
            "Requirement already satisfied: six>=1.5 in c:\\users\\asus\\appdata\\roaming\\python\\python313\\site-packages (from python-dateutil<3.0.0,>=2.1->aiobotocore<3.0.0,>=2.5.4->s3fs) (1.17.0)\n",
            "Requirement already satisfied: idna>=2.0 in c:\\users\\asus\\appdata\\roaming\\python\\python313\\site-packages (from yarl<2.0,>=1.17.0->aiohttp!=4.0.0a0,!=4.0.0a1->s3fs) (3.10)\n",
            "Using cached s3fs-2025.9.0-py3-none-any.whl (30 kB)\n",
            "Using cached fsspec-2025.9.0-py3-none-any.whl (199 kB)\n",
            "Using cached aiobotocore-2.24.2-py3-none-any.whl (85 kB)\n",
            "Using cached aiohttp-3.12.15-cp313-cp313-win_amd64.whl (449 kB)\n",
            "Using cached aioitertools-0.12.0-py3-none-any.whl (24 kB)\n",
            "Using cached botocore-1.40.18-py3-none-any.whl (14.0 MB)\n",
            "Using cached multidict-6.6.4-cp313-cp313-win_amd64.whl (45 kB)\n",
            "Using cached yarl-1.20.1-cp313-cp313-win_amd64.whl (86 kB)\n",
            "Using cached aiohappyeyeballs-2.6.1-py3-none-any.whl (15 kB)\n",
            "Using cached aiosignal-1.4.0-py3-none-any.whl (7.5 kB)\n",
            "Using cached attrs-25.3.0-py3-none-any.whl (63 kB)\n",
            "Using cached frozenlist-1.7.0-cp313-cp313-win_amd64.whl (43 kB)\n",
            "Using cached propcache-0.3.2-cp313-cp313-win_amd64.whl (40 kB)\n",
            "Installing collected packages: propcache, multidict, fsspec, frozenlist, attrs, aioitertools, aiohappyeyeballs, yarl, botocore, aiosignal, aiohttp, aiobotocore, s3fs\n",
            "\n",
            "   --- ------------------------------------  1/13 [multidict]\n",
            "   ------ ---------------------------------  2/13 [fsspec]\n",
            "   ------ ---------------------------------  2/13 [fsspec]\n",
            "   ------ ---------------------------------  2/13 [fsspec]\n",
            "   ------ ---------------------------------  2/13 [fsspec]\n",
            "   ------ ---------------------------------  2/13 [fsspec]\n",
            "   ------ ---------------------------------  2/13 [fsspec]\n",
            "   ------ ---------------------------------  2/13 [fsspec]\n",
            "   --------- ------------------------------  3/13 [frozenlist]\n",
            "   ------------ ---------------------------  4/13 [attrs]\n",
            "   ------------ ---------------------------  4/13 [attrs]\n",
            "   --------------- ------------------------  5/13 [aioitertools]\n",
            "   --------------- ------------------------  5/13 [aioitertools]\n",
            "   ------------------ ---------------------  6/13 [aiohappyeyeballs]\n",
            "   --------------------- ------------------  7/13 [yarl]\n",
            "  Attempting uninstall: botocore\n",
            "   --------------------- ------------------  7/13 [yarl]\n",
            "    Found existing installation: botocore 1.40.39\n",
            "   --------------------- ------------------  7/13 [yarl]\n",
            "   ------------------------ ---------------  8/13 [botocore]\n",
            "   ------------------------ ---------------  8/13 [botocore]\n",
            "   ------------------------ ---------------  8/13 [botocore]\n",
            "    Uninstalling botocore-1.40.39:\n",
            "   ------------------------ ---------------  8/13 [botocore]\n",
            "   ------------------------ ---------------  8/13 [botocore]\n",
            "      Successfully uninstalled botocore-1.40.39\n",
            "   ------------------------ ---------------  8/13 [botocore]\n",
            "   ------------------------ ---------------  8/13 [botocore]\n",
            "   ------------------------ ---------------  8/13 [botocore]\n",
            "   ------------------------ ---------------  8/13 [botocore]\n",
            "   ------------------------ ---------------  8/13 [botocore]\n",
            "   ------------------------ ---------------  8/13 [botocore]\n",
            "   ------------------------ ---------------  8/13 [botocore]\n",
            "   ------------------------ ---------------  8/13 [botocore]\n",
            "   ------------------------ ---------------  8/13 [botocore]\n",
            "   ------------------------ ---------------  8/13 [botocore]\n",
            "   ------------------------ ---------------  8/13 [botocore]\n",
            "   ------------------------ ---------------  8/13 [botocore]\n",
            "   ------------------------ ---------------  8/13 [botocore]\n",
            "   ------------------------ ---------------  8/13 [botocore]\n",
            "   ------------------------ ---------------  8/13 [botocore]\n",
            "   ------------------------ ---------------  8/13 [botocore]\n",
            "   ------------------------ ---------------  8/13 [botocore]\n",
            "   ------------------------ ---------------  8/13 [botocore]\n",
            "   ------------------------ ---------------  8/13 [botocore]\n",
            "   ------------------------ ---------------  8/13 [botocore]\n",
            "   ------------------------ ---------------  8/13 [botocore]\n",
            "   ------------------------ ---------------  8/13 [botocore]\n",
            "   ------------------------ ---------------  8/13 [botocore]\n",
            "   ------------------------ ---------------  8/13 [botocore]\n",
            "   ------------------------ ---------------  8/13 [botocore]\n",
            "   ------------------------ ---------------  8/13 [botocore]\n",
            "   --------------------------- ------------  9/13 [aiosignal]\n",
            "   ------------------------------ --------- 10/13 [aiohttp]\n",
            "   ------------------------------ --------- 10/13 [aiohttp]\n",
            "   ------------------------------ --------- 10/13 [aiohttp]\n",
            "   ------------------------------ --------- 10/13 [aiohttp]\n",
            "   ------------------------------ --------- 10/13 [aiohttp]\n",
            "   ------------------------------ --------- 10/13 [aiohttp]\n",
            "   ------------------------------ --------- 10/13 [aiohttp]\n",
            "   ------------------------------ --------- 10/13 [aiohttp]\n",
            "   ------------------------------ --------- 10/13 [aiohttp]\n",
            "   --------------------------------- ------ 11/13 [aiobotocore]\n",
            "   --------------------------------- ------ 11/13 [aiobotocore]\n",
            "   --------------------------------- ------ 11/13 [aiobotocore]\n",
            "   --------------------------------- ------ 11/13 [aiobotocore]\n",
            "   ---------------------------------------- 13/13 [s3fs]\n",
            "\n",
            "Successfully installed aiobotocore-2.24.2 aiohappyeyeballs-2.6.1 aiohttp-3.12.15 aioitertools-0.12.0 aiosignal-1.4.0 attrs-25.3.0 botocore-1.40.18 frozenlist-1.7.0 fsspec-2025.9.0 multidict-6.6.4 propcache-0.3.2 s3fs-2025.9.0 yarl-1.20.1\n"
          ]
        },
        {
          "name": "stderr",
          "output_type": "stream",
          "text": [
            "ERROR: pip's dependency resolver does not currently take into account all the packages that are installed. This behaviour is the source of the following dependency conflicts.\n",
            "boto3 1.40.39 requires botocore<1.41.0,>=1.40.39, but you have botocore 1.40.18 which is incompatible.\n"
          ]
        }
      ],
      "source": [
        "!pip install openaq\n",
        "!pip install s3fs"
      ]
    },
    {
      "cell_type": "code",
      "execution_count": 2,
      "metadata": {
        "id": "o5RP5LE5sHlk"
      },
      "outputs": [],
      "source": [
        "from openaq import OpenAQ\n",
        "import pandas as pd\n",
        "import s3fs"
      ]
    },
    {
      "cell_type": "code",
      "execution_count": 3,
      "metadata": {
        "colab": {
          "base_uri": "https://localhost:8080/"
        },
        "id": "x_8-6e0XtQT_",
        "outputId": "8d8a2002-4759-4420-9fbc-37b6b1762e96"
      },
      "outputs": [
        {
          "data": {
            "text/plain": [
              "<openaq._sync.client.OpenAQ at 0x1a2e6341940>"
            ]
          },
          "execution_count": 3,
          "metadata": {},
          "output_type": "execute_result"
        }
      ],
      "source": [
        "client = OpenAQ(api_key='1e8d7cdfee4a3c725868b9148839b5323da06cb794cac768098de81167289e3d')\n",
        "client"
      ]
    },
    {
      "cell_type": "code",
      "execution_count": 4,
      "metadata": {
        "id": "o6WKhp7EtmbK"
      },
      "outputs": [],
      "source": [
        "sa_bbox_search_locations = client.locations.list(\n",
        "bbox=(76.1667,7.9119,80.8167,13.6453),\n",
        "limit=1000\n",
        ")"
      ]
    },
    {
      "cell_type": "code",
      "execution_count": 5,
      "metadata": {
        "colab": {
          "base_uri": "https://localhost:8080/"
        },
        "id": "seTJap5_wA9O",
        "outputId": "e525ec1f-2cf7-463d-b5d4-dfe37bfbb2cf"
      },
      "outputs": [
        {
          "data": {
            "text/plain": [
              "{'id': 378,\n",
              " 'name': 'Alandur Bus Depot',\n",
              " 'locality': None,\n",
              " 'timezone': 'Asia/Kolkata',\n",
              " 'country': CountryBase(id=9, code='IN', name='India'),\n",
              " 'owner': OwnerBase(id=4, name='Unknown Governmental Organization'),\n",
              " 'provider': ProviderBase(id=168, name='CPCB'),\n",
              " 'is_mobile': False,\n",
              " 'is_monitor': True,\n",
              " 'instruments': [InstrumentBase(id=2, name='Government Monitor')],\n",
              " 'sensors': [SensorBase(id=661, name='co µg/m³', parameter=ParameterBase(id=4, name='co', units='µg/m³', display_name='CO mass')),\n",
              "  SensorBase(id=5374, name='no2 µg/m³', parameter=ParameterBase(id=5, name='no2', units='µg/m³', display_name='NO₂ mass')),\n",
              "  SensorBase(id=5352, name='o3 µg/m³', parameter=ParameterBase(id=3, name='o3', units='µg/m³', display_name='O₃ mass')),\n",
              "  SensorBase(id=14304, name='pm25 µg/m³', parameter=ParameterBase(id=2, name='pm25', units='µg/m³', display_name='PM2.5')),\n",
              "  SensorBase(id=14305, name='so2 µg/m³', parameter=ParameterBase(id=6, name='so2', units='µg/m³', display_name='SO₂ mass'))],\n",
              " 'coordinates': Coordinates(latitude=12.99711389, longitude=80.19151667),\n",
              " 'bounds': [80.19151667, 12.99711389, 80.19151667, 12.99711389],\n",
              " 'distance': None,\n",
              " 'datetime_first': Datetime(utc='2016-03-22T00:45:00Z', local='2016-03-22T06:15:00+05:30'),\n",
              " 'datetime_last': Datetime(utc='2018-02-22T03:45:00Z', local='2018-02-22T09:15:00+05:30')}"
            ]
          },
          "execution_count": 5,
          "metadata": {},
          "output_type": "execute_result"
        }
      ],
      "source": [
        "sa_bbox_search_locations.results[0].__dict__"
      ]
    },
    {
      "cell_type": "code",
      "execution_count": null,
      "metadata": {
        "colab": {
          "base_uri": "https://localhost:8080/"
        },
        "id": "HOj6nXIny3w5",
        "outputId": "f3fe7359-0c63-432b-e879-407e00bbc725"
      },
      "outputs": [
        {
          "data": {
            "text/plain": [
              "84"
            ]
          },
          "execution_count": 6,
          "metadata": {},
          "output_type": "execute_result"
        }
      ],
      "source": [
        "locations_id = {}\n",
        "\n",
        "for location in sa_bbox_search_locations.results:\n",
        "    locations_id[location.id] = location.name\n",
        "\n",
        "len(locations_id)"
      ]
    },
    {
      "cell_type": "code",
      "execution_count": null,
      "metadata": {
        "colab": {
          "base_uri": "https://localhost:8080/"
        },
        "id": "kau4Dl_jzi_f",
        "outputId": "0f699b7a-5f08-4e69-b9e1-00fc7564f788"
      },
      "outputs": [
        {
          "data": {
            "text/plain": [
              "{378: 'Alandur Bus Depot',\n",
              " 412: 'Peenya, Bengaluru - KSPCB',\n",
              " 594: 'BTM Layout, Bengaluru - KSPCB',\n",
              " 797: 'City Railway Station - KSPCB',\n",
              " 2461: 'US Diplomatic Post: Chennai',\n",
              " 2549: 'IIT',\n",
              " 2586: 'Manali, Chennai - CPCB',\n",
              " 2589: 'SaneguravaHalli - KSPCB',\n",
              " 2592: 'BWSSB Kadabesanahalli, Bengaluru - KSPCB',\n",
              " 5547: 'BWSSB Kadabesanahalli, Bengaluru - CPCB',\n",
              " 5548: 'BTM Layout, Bengaluru - CPCB',\n",
              " 5558: 'Alandur Bus Depot, Chennai - CPCB',\n",
              " 5574: 'City Railway Station, Bengaluru - KSPCB',\n",
              " 5607: 'Peenya, Bengaluru - CPCB',\n",
              " 5644: 'Sanegurava Halli, Bengaluru - KSPCB',\n",
              " 5646: 'Plammoodu, Thiruvananthapuram - Kerala PCB',\n",
              " 5655: 'Velachery Res. Area, Chennai - CPCB',\n",
              " 6920: 'Manali Village, Chennai - TNPCB',\n",
              " 6954: 'Chikkaballapur Rural, Chikkaballapur - KSPCB',\n",
              " 6966: 'Udyogamandal, Eloor - Kerala PCB',\n",
              " 6973: 'Jayanagar 5th Block, Bengaluru - KSPCB',\n",
              " 6974: 'Bapuji Nagar, Bengaluru - KSPCB',\n",
              " 6975: 'Silk Board, Bengaluru - KSPCB',\n",
              " 6983: 'Hombegowda Nagar, Bengaluru - KSPCB',\n",
              " 6984: 'Hebbal, Bengaluru - KSPCB',\n",
              " 7289: 'Hebbal 1st Stage, Mysuru - KSPCB',\n",
              " 7901: 'Corporation Ground, Thrissur- Kerala PCB',\n",
              " 8153: 'Urban, Chamarajanagar - KSPCB',\n",
              " 8190: 'Kariavattom, Thiruvananthapuram - Kerala PCB',\n",
              " 8558: 'Chennai',\n",
              " 8914: 'SIDCO Kurichi, Coimbatore - TNPCB',\n",
              " 8916: 'Vyttila, Kochi - Kerala PCB',\n",
              " 10609: 'Hebbal 1st Stage, Mysuru - KSPCB',\n",
              " 10780: 'Manali Village, Chennai - TNPCB',\n",
              " 10909: 'Vijay Nagar, Ramanagara - KSPCB',\n",
              " 10915: 'Polayathode, Kollam - Kerala PCB',\n",
              " 10916: 'Kacheripady, Ernakulam - Kerala PCB',\n",
              " 11578: 'Royapuram, Chennai - TNPCB',\n",
              " 11579: 'Kodungaiyur, Chennai - TNPCB',\n",
              " 11580: 'Meelavittan, Thoothukudi - TNPCB',\n",
              " 11581: 'Arumbakkam, Chennai - TNPCB',\n",
              " 12046: 'Perungudi, Chennai - TNPCB',\n",
              " 45008: 'Anthoni Pillai Nagar, Gummidipoondi - TNPCB',\n",
              " 60656: 'Tamaka Ind. Area, Kolar - KSPCB',\n",
              " 60659: 'Jawahar Nagar, Puducherry - PPCC',\n",
              " 229473: 'blore_India_07_14_official',\n",
              " 358448: 'Kumaran College, Tirupur - TNPCB',\n",
              " 358450: 'Bombay Castel, Ooty - TNPCB',\n",
              " 358451: 'Vasanthapuram, Vellore - TNPCB',\n",
              " 358452: 'Chalai Bazaar, Ramanathapuram - TNPCB',\n",
              " 358453: 'Mendonsa Colony, Dindigul - TNPCB',\n",
              " 358454: 'SIPCOT Phase-1, Hosur - TNPCB',\n",
              " 358455: 'Sona College of Technology, Salem - TNPCB',\n",
              " 358457: 'PSG College of Arts and Science, Coimbatore - TNPCB',\n",
              " 358627: 'Crescent University, Chengalpattu - TNPCB',\n",
              " 2498781: 'SiriJaya',\n",
              " 2812757: 'Jaffna',\n",
              " 3409319: 'Alandur Bus Depot, Chennai - CPCB',\n",
              " 3409343: 'Keelapalur, Ariyalur - TNPCB',\n",
              " 3409344: 'Municipal Corporation Office, Tirunelveli - TNPCB',\n",
              " 3409345: 'Parisutham Nagar, Thanjavur - TNPCB',\n",
              " 3409346: 'Semmandalam, Cuddalore - TNPCB',\n",
              " 3409347: 'SIPCOT Phase-1, Hosur - TNPCB',\n",
              " 3409348: 'Uchapatti, Madurai - TNPCB',\n",
              " 3409349: 'Vasanthapuram, Vellore - TNPCB',\n",
              " 3409350: 'Velippalayam, Nagapattinam - TNPCB',\n",
              " 3409351: 'VOC Nagar_SIPCOT, Ranipet - TNPCB',\n",
              " 3409353: 'Kilambi, Kanchipuram - TNPCB',\n",
              " 3409354: 'Kudikadu, Cuddalore - TNPCB',\n",
              " 3409355: 'Sona College of Technology, Salem - TNPCB',\n",
              " 3409356: 'Bharathidasan University, Palkalaiperur - TNPCB',\n",
              " 3409357: 'Kamadenu Nagar, Karur - TNPCB',\n",
              " 3409358: 'St Joseph College, Tiruchirappalli - TNPCB',\n",
              " 3409372: 'Gangineni Cheruvu, Chittoor - APPCB',\n",
              " 3409373: 'Vaikuntapuram, Tirupathi - APPCB',\n",
              " 3409385: 'RVCE-Mailasandra, Bengaluru - KSPCB',\n",
              " 3409388: 'Kasturi Nagar, Bengaluru - KSPCB',\n",
              " 3409389: 'Thimmalapura, Tumakuru - KSPCB',\n",
              " 3409393: 'Shivapura_Peenya, Bengaluru - KSPCB',\n",
              " 3409434: 'Jigani, Bengaluru - KSPCB',\n",
              " 3409516: 'SIPCOT Nathampannai, Pudukottai - TNPCB',\n",
              " 3409517: 'Collectorate Office, Virudhunagar - TNPCB',\n",
              " 3409527: 'SIPCOT Industrial Park, Perundurai - TNPCB',\n",
              " 3774726: 'Ponnusamy Nagar, Namakkal - TNPCB'}"
            ]
          },
          "execution_count": 7,
          "metadata": {},
          "output_type": "execute_result"
        }
      ],
      "source": [
        "locations_id"
      ]
    },
    {
      "cell_type": "code",
      "execution_count": null,
      "metadata": {
        "id": "0a6a4758"
      },
      "outputs": [],
      "source": [
        "all_measurements_df = pd.DataFrame()"
      ]
    },
    {
      "cell_type": "code",
      "execution_count": null,
      "metadata": {
        "id": "bJCfVsPo6l30"
      },
      "outputs": [],
      "source": [
        "fs = s3fs.S3FileSystem(anon=True)"
      ]
    },
    {
      "cell_type": "code",
      "execution_count": null,
      "metadata": {
        "colab": {
          "base_uri": "https://localhost:8080/"
        },
        "id": "5c118e84",
        "outputId": "00c3b551-44af-4e6b-adb0-2ca5dc8886d2"
      },
      "outputs": [
        {
          "name": "stdout",
          "output_type": "stream",
          "text": [
            "1 . Alandur Bus Depot: 378\n",
            "No data found for location ID 378 across specified months.\n",
            "2 . Peenya, Bengaluru - KSPCB: 412\n",
            "No data found for location ID 412 across specified months.\n",
            "3 . BTM Layout, Bengaluru - KSPCB: 594\n",
            "No data found for location ID 594 across specified months.\n",
            "4 . City Railway Station - KSPCB: 797\n",
            "No data found for location ID 797 across specified months.\n",
            "5 . US Diplomatic Post: Chennai: 2461\n",
            "No data found for location ID 2461 across specified months.\n",
            "6 . IIT: 2549\n",
            "No data found for location ID 2549 across specified months.\n",
            "7 . Manali, Chennai - CPCB: 2586\n",
            "8 . SaneguravaHalli - KSPCB: 2589\n",
            "No data found for location ID 2589 across specified months.\n",
            "9 . BWSSB Kadabesanahalli, Bengaluru - KSPCB: 2592\n",
            "No data found for location ID 2592 across specified months.\n",
            "10 . BWSSB Kadabesanahalli, Bengaluru - CPCB: 5547\n",
            "No data found for location ID 5547 across specified months.\n",
            "11 . BTM Layout, Bengaluru - CPCB: 5548\n",
            "12 . Alandur Bus Depot, Chennai - CPCB: 5558\n",
            "No data found for location ID 5558 across specified months.\n",
            "13 . City Railway Station, Bengaluru - KSPCB: 5574\n",
            "14 . Peenya, Bengaluru - CPCB: 5607\n",
            "15 . Sanegurava Halli, Bengaluru - KSPCB: 5644\n",
            "16 . Plammoodu, Thiruvananthapuram - Kerala PCB: 5646\n",
            "17 . Velachery Res. Area, Chennai - CPCB: 5655\n",
            "18 . Manali Village, Chennai - TNPCB: 6920\n",
            "No data found for location ID 6920 across specified months.\n",
            "19 . Chikkaballapur Rural, Chikkaballapur - KSPCB: 6954\n",
            "20 . Udyogamandal, Eloor - Kerala PCB: 6966\n",
            "21 . Jayanagar 5th Block, Bengaluru - KSPCB: 6973\n",
            "22 . Bapuji Nagar, Bengaluru - KSPCB: 6974\n",
            "23 . Silk Board, Bengaluru - KSPCB: 6975\n",
            "24 . Hombegowda Nagar, Bengaluru - KSPCB: 6983\n",
            "25 . Hebbal, Bengaluru - KSPCB: 6984\n",
            "26 . Hebbal 1st Stage, Mysuru - KSPCB: 7289\n",
            "27 . Corporation Ground, Thrissur- Kerala PCB: 7901\n",
            "28 . Urban, Chamarajanagar - KSPCB: 8153\n",
            "29 . Kariavattom, Thiruvananthapuram - Kerala PCB: 8190\n",
            "30 . Chennai: 8558\n",
            "31 . SIDCO Kurichi, Coimbatore - TNPCB: 8914\n",
            "32 . Vyttila, Kochi - Kerala PCB: 8916\n",
            "No data found for location ID 8916 across specified months.\n",
            "33 . Hebbal 1st Stage, Mysuru - KSPCB: 10609\n",
            "No data found for location ID 10609 across specified months.\n",
            "34 . Manali Village, Chennai - TNPCB: 10780\n",
            "35 . Vijay Nagar, Ramanagara - KSPCB: 10909\n",
            "36 . Polayathode, Kollam - Kerala PCB: 10915\n",
            "37 . Kacheripady, Ernakulam - Kerala PCB: 10916\n",
            "No data found for location ID 10916 across specified months.\n",
            "38 . Royapuram, Chennai - TNPCB: 11578\n",
            "39 . Kodungaiyur, Chennai - TNPCB: 11579\n",
            "40 . Meelavittan, Thoothukudi - TNPCB: 11580\n",
            "41 . Arumbakkam, Chennai - TNPCB: 11581\n",
            "42 . Perungudi, Chennai - TNPCB: 12046\n",
            "43 . Anthoni Pillai Nagar, Gummidipoondi - TNPCB: 45008\n",
            "44 . Tamaka Ind. Area, Kolar - KSPCB: 60656\n",
            "45 . Jawahar Nagar, Puducherry - PPCC: 60659\n",
            "46 . blore_India_07_14_official: 229473\n",
            "No data found for location ID 229473 across specified months.\n",
            "47 . Kumaran College, Tirupur - TNPCB: 358448\n",
            "48 . Bombay Castel, Ooty - TNPCB: 358450\n",
            "49 . Vasanthapuram, Vellore - TNPCB: 358451\n",
            "No data found for location ID 358451 across specified months.\n",
            "50 . Chalai Bazaar, Ramanathapuram - TNPCB: 358452\n",
            "51 . Mendonsa Colony, Dindigul - TNPCB: 358453\n",
            "52 . SIPCOT Phase-1, Hosur - TNPCB: 358454\n",
            "No data found for location ID 358454 across specified months.\n",
            "53 . Sona College of Technology, Salem - TNPCB: 358455\n",
            "No data found for location ID 358455 across specified months.\n",
            "54 . PSG College of Arts and Science, Coimbatore - TNPCB: 358457\n",
            "55 . Crescent University, Chengalpattu - TNPCB: 358627\n",
            "56 . SiriJaya: 2498781\n",
            "57 . Jaffna: 2812757\n",
            "58 . Alandur Bus Depot, Chennai - CPCB: 3409319\n",
            "59 . Keelapalur, Ariyalur - TNPCB: 3409343\n",
            "60 . Municipal Corporation Office, Tirunelveli - TNPCB: 3409344\n",
            "61 . Parisutham Nagar, Thanjavur - TNPCB: 3409345\n",
            "62 . Semmandalam, Cuddalore - TNPCB: 3409346\n",
            "63 . SIPCOT Phase-1, Hosur - TNPCB: 3409347\n",
            "64 . Uchapatti, Madurai - TNPCB: 3409348\n",
            "65 . Vasanthapuram, Vellore - TNPCB: 3409349\n",
            "66 . Velippalayam, Nagapattinam - TNPCB: 3409350\n",
            "67 . VOC Nagar_SIPCOT, Ranipet - TNPCB: 3409351\n",
            "68 . Kilambi, Kanchipuram - TNPCB: 3409353\n",
            "69 . Kudikadu, Cuddalore - TNPCB: 3409354\n",
            "70 . Sona College of Technology, Salem - TNPCB: 3409355\n",
            "71 . Bharathidasan University, Palkalaiperur - TNPCB: 3409356\n",
            "72 . Kamadenu Nagar, Karur - TNPCB: 3409357\n",
            "73 . St Joseph College, Tiruchirappalli - TNPCB: 3409358\n",
            "74 . Gangineni Cheruvu, Chittoor - APPCB: 3409372\n",
            "75 . Vaikuntapuram, Tirupathi - APPCB: 3409373\n",
            "76 . RVCE-Mailasandra, Bengaluru - KSPCB: 3409385\n",
            "77 . Kasturi Nagar, Bengaluru - KSPCB: 3409388\n",
            "78 . Thimmalapura, Tumakuru - KSPCB: 3409389\n",
            "79 . Shivapura_Peenya, Bengaluru - KSPCB: 3409393\n",
            "80 . Jigani, Bengaluru - KSPCB: 3409434\n",
            "81 . SIPCOT Nathampannai, Pudukottai - TNPCB: 3409516\n",
            "82 . Collectorate Office, Virudhunagar - TNPCB: 3409517\n",
            "83 . SIPCOT Industrial Park, Perundurai - TNPCB: 3409527\n",
            "84 . Ponnusamy Nagar, Namakkal - TNPCB: 3774726\n"
          ]
        }
      ],
      "source": [
        "# Create an empty DataFrame to store all measurements\n",
        "all_measurements_df = pd.DataFrame()\n",
        "\n",
        "# Define the year and the range of months\n",
        "year = 2025\n",
        "months = range(1, 10)  # Months from 1 (January) to 9 (September)\n",
        "count = 0\n",
        "for location_id in locations_id.keys():\n",
        "    count+=1\n",
        "    print(f\"{count} . {locations_id[location_id]}: {location_id}\")\n",
        "\n",
        "    location_data_frames = [] # To store dataframes for each month for the current location\n",
        "\n",
        "    for month in months:\n",
        "        # Format the month as a two-digit string\n",
        "        month_str = f\"{month:02d}\"\n",
        "\n",
        "        # Construct the full S3 path for the current year and month\n",
        "        full_path = f\"openaq-data-archive/records/csv.gz/locationid={location_id}/year={year}/month={month_str}/*.csv.gz\"\n",
        "\n",
        "        try:\n",
        "            # Use fs.glob() to find all .csv.gz files matching the constructed path\n",
        "            files = fs.glob(f\"s3://{full_path}\")\n",
        "\n",
        "            if files:\n",
        "                # print(f\"Found {len(files)} files for location ID {location_id} in {year}-{month_str}\")\n",
        "                # Read all files and concatenate for the current month\n",
        "                month_df = pd.concat([pd.read_csv(f\"s3://{file}\", storage_options={\"anon\": True}) for file in files])\n",
        "                location_data_frames.append(month_df)\n",
        "            # else:\n",
        "            #     print(f\"No files found for location ID {location_id} for {year}-{month_str}\")\n",
        "\n",
        "        except Exception as e:\n",
        "            print(f\"Error accessing path for location ID {location_id} for {year}-{month_str}: {e}\")\n",
        "\n",
        "\n",
        "    # Concatenate all monthly dataframes for the current location\n",
        "    if location_data_frames:\n",
        "        location_df = pd.concat(location_data_frames, ignore_index=True)\n",
        "        # Append the data for the current location to the main DataFrame\n",
        "        all_measurements_df = pd.concat([all_measurements_df, location_df], ignore_index=True)\n",
        "    else:\n",
        "        print(f\"No data found for location ID {location_id} across specified months.\")"
      ]
    },
    {
      "cell_type": "code",
      "execution_count": null,
      "metadata": {
        "colab": {
          "base_uri": "https://localhost:8080/"
        },
        "id": "60Rhx_cG9x7g",
        "outputId": "e1c2d8f0-8ac4-4bf6-fba4-4b8bc73c9804"
      },
      "outputs": [
        {
          "name": "stdout",
          "output_type": "stream",
          "text": [
            "<class 'pandas.core.frame.DataFrame'>\n",
            "RangeIndex: 7177713 entries, 0 to 7177712\n",
            "Data columns (total 9 columns):\n",
            " #   Column       Dtype  \n",
            "---  ------       -----  \n",
            " 0   location_id  int64  \n",
            " 1   sensors_id   int64  \n",
            " 2   location     object \n",
            " 3   datetime     object \n",
            " 4   lat          float64\n",
            " 5   lon          float64\n",
            " 6   parameter    object \n",
            " 7   units        object \n",
            " 8   value        float64\n",
            "dtypes: float64(3), int64(2), object(4)\n",
            "memory usage: 492.9+ MB\n"
          ]
        }
      ],
      "source": [
        "all_measurements_df.info()"
      ]
    },
    {
      "cell_type": "code",
      "execution_count": null,
      "metadata": {
        "colab": {
          "base_uri": "https://localhost:8080/"
        },
        "id": "QOKWw093_VUb",
        "outputId": "168ecfb5-453c-466a-b296-d942c97bb8b5"
      },
      "outputs": [
        {
          "name": "stdout",
          "output_type": "stream",
          "text": [
            "Unique locations in the DataFrame:\n",
            "Manali, Chennai - CPCB-3379580\n",
            "BTM Layout, Bengaluru - CPCB-3379546\n",
            "City Railway Station, Bengaluru - KSPCB-3379548\n",
            "Peenya, Bengaluru - CPCB-3379547\n",
            "Sanegurava Halli, Bengaluru - KSPCB-3379549\n",
            "Plammoodu, Thiruvananthapuram - Kerala PCB-3379553\n",
            "Velachery Res. Area, Chennai - CPCB-3379566\n",
            "Chikkaballapur Rural, Chikkaballapur - KSPCB-3379536\n",
            "Udyogamandal, Eloor - Kerala PCB-3379604\n",
            "Jayanagar 5th Block, Bengaluru - KSPCB-3379535\n",
            "Bapuji Nagar, Bengaluru - KSPCB-3379532\n",
            "Silk Board, Bengaluru - KSPCB-3379537\n",
            "Hombegowda Nagar, Bengaluru - KSPCB-3379534\n",
            "Hebbal, Bengaluru - KSPCB-3379533\n",
            "Hebbal 1st Stage, Mysuru - KSPCB-3382758\n",
            "Corporation Ground, Thrissur- Kerala PCB-3379663\n",
            "Urban, Chamarajanagar - KSPCB-3379618\n",
            "Kariavattom, Thiruvananthapuram - Kerala PCB-3379643\n",
            "Chennai-931708\n",
            "US Diplomatic Post: Chennai-931708\n",
            "SIDCO Kurichi, Coimbatore - TNPCB-3379599\n",
            "Manali Village, Chennai - TNPCB-3379598\n",
            "Vijay Nagar, Ramanagara - KSPCB-3379630\n",
            "Polayathode, Kollam - Kerala PCB-3384857\n",
            "Royapuram, Chennai - TNPCB-3379658\n",
            "Kodungaiyur, Chennai - TNPCB-3379659\n",
            "Meelavittan, Thoothukudi - TNPCB-3379660\n",
            "Arumbakkam, Chennai - TNPCB-3379655\n",
            "Perungudi, Chennai - TNPCB-3379657\n",
            "Anthoni Pillai Nagar, Gummidipoondi - TNPCB-3379656\n",
            "Tamaka Ind. Area, Kolar - KSPCB-3379531\n",
            "Jawahar Nagar, Puducherry - PPCC-3379683\n",
            "Kumaran College, Tirupur - TNPCB-3379760\n",
            "Bombay Castel, Ooty - TNPCB-3379774\n",
            "Chalai Bazaar, Ramanathapuram - TNPCB-3379775\n",
            "Mendonsa Colony, Dindigul - TNPCB-3379761\n",
            "PSG College of Arts and Science, Coimbatore - TNPCB-3379773\n",
            "Crescent University, Chengalpattu - TNPCB-3379758\n",
            "SiriJaya-2490778\n",
            "SiriJaya-2468573\n",
            "Jaffna-2782668\n",
            "Alandur Bus Depot, Chennai - CPCB-3379568\n",
            "Keelapalur, Ariyalur - TNPCB-3379759\n",
            "Municipal Corporation Office, Tirunelveli - TNPCB-3379762\n",
            "Parisutham Nagar, Thanjavur - TNPCB-3379763\n",
            "Semmandalam, Cuddalore - TNPCB-3379764\n",
            "SIPCOT Phase-1, Hosur - TNPCB-3673147\n",
            "Uchapatti, Madurai - TNPCB-3379766\n",
            "Vasanthapuram, Vellore - TNPCB-3379767\n",
            "Velippalayam, Nagapattinam - TNPCB-3379768\n",
            "VOC Nagar_SIPCOT, Ranipet - TNPCB-3379769\n",
            "Kilambi, Kanchipuram - TNPCB-3379770\n",
            "Kudikadu, Cuddalore - TNPCB-3387105\n",
            "Sona College of Technology, Salem - TNPCB-3379772\n",
            "Bharathidasan University, Palkalaiperur - TNPCB-3379776\n",
            "Kamadenu Nagar, Karur - TNPCB-3379777\n",
            "St Joseph College, Tiruchirappalli - TNPCB-3379779\n",
            "Gangineni Cheruvu, Chittoor - APPCB-3379794\n",
            "Vaikuntapuram, Tirupathi - APPCB-3379795\n",
            "RVCE-Mailasandra, Bengaluru - KSPCB-3379807\n",
            "Kasturi Nagar, Bengaluru - KSPCB-3379810\n",
            "Thimmalapura, Tumakuru - KSPCB-3379811\n",
            "Shivapura_Peenya, Bengaluru - KSPCB-3379815\n",
            "Jigani, Bengaluru - KSPCB-3385058\n",
            "SIPCOT Nathampannai, Pudukottai - TNPCB-3379926\n",
            "Collectorate Office, Virudhunagar - TNPCB-3379927\n",
            "SIPCOT Industrial Park, Perundurai - TNPCB-3379936\n",
            "Ponnusamy Nagar, Namakkal - TNPCB-3744663\n"
          ]
        }
      ],
      "source": [
        "unique_locations = all_measurements_df['location'].unique()\n",
        "print(\"Unique locations in the DataFrame:\")\n",
        "for loc in unique_locations:\n",
        "    print(loc)"
      ]
    },
    {
      "cell_type": "code",
      "execution_count": null,
      "metadata": {
        "colab": {
          "base_uri": "https://localhost:8080/"
        },
        "id": "uxEfx2-0AWDJ",
        "outputId": "49ec0bc8-9ae8-4339-9f1a-551cf68a6fc5"
      },
      "outputs": [
        {
          "name": "stdout",
          "output_type": "stream",
          "text": [
            "<class 'pandas.core.frame.DataFrame'>\n",
            "Index: 4186568 entries, 0 to 7177712\n",
            "Data columns (total 9 columns):\n",
            " #   Column       Dtype  \n",
            "---  ------       -----  \n",
            " 0   location_id  int64  \n",
            " 1   sensors_id   int64  \n",
            " 2   location     object \n",
            " 3   datetime     object \n",
            " 4   lat          float64\n",
            " 5   lon          float64\n",
            " 6   parameter    object \n",
            " 7   units        object \n",
            " 8   value        float64\n",
            "dtypes: float64(3), int64(2), object(4)\n",
            "memory usage: 319.4+ MB\n"
          ]
        }
      ],
      "source": [
        "# Filter the DataFrame to keep only locations containing \"TNPCB\", \"chennai\", or \"PPCC\"\n",
        "filtered_df = all_measurements_df[\n",
        "    all_measurements_df['location'].str.contains('TNPCB', case=False, na=False) |\n",
        "    all_measurements_df['location'].str.contains('chennai', case=False, na=False) |\n",
        "    all_measurements_df['location'].str.contains('PPCC', case=False, na=False)\n",
        "]\n",
        "\n",
        "# Display the filtered DataFrame information\n",
        "filtered_df.info()"
      ]
    },
    {
      "cell_type": "code",
      "execution_count": null,
      "metadata": {
        "colab": {
          "base_uri": "https://localhost:8080/"
        },
        "id": "-e38UWgSBPAC",
        "outputId": "27184715-5297-49d8-a069-6daed8bef707"
      },
      "outputs": [
        {
          "name": "stdout",
          "output_type": "stream",
          "text": [
            "Unique locations in the DataFrame:\n",
            "1- Manali, Chennai - CPCB-3379580\n",
            "2- Velachery Res. Area, Chennai - CPCB-3379566\n",
            "3- Chennai-931708\n",
            "4- US Diplomatic Post: Chennai-931708\n",
            "5- SIDCO Kurichi, Coimbatore - TNPCB-3379599\n",
            "6- Manali Village, Chennai - TNPCB-3379598\n",
            "7- Royapuram, Chennai - TNPCB-3379658\n",
            "8- Kodungaiyur, Chennai - TNPCB-3379659\n",
            "9- Meelavittan, Thoothukudi - TNPCB-3379660\n",
            "10- Arumbakkam, Chennai - TNPCB-3379655\n",
            "11- Perungudi, Chennai - TNPCB-3379657\n",
            "12- Anthoni Pillai Nagar, Gummidipoondi - TNPCB-3379656\n",
            "13- Jawahar Nagar, Puducherry - PPCC-3379683\n",
            "14- Kumaran College, Tirupur - TNPCB-3379760\n",
            "15- Bombay Castel, Ooty - TNPCB-3379774\n",
            "16- Chalai Bazaar, Ramanathapuram - TNPCB-3379775\n",
            "17- Mendonsa Colony, Dindigul - TNPCB-3379761\n",
            "18- PSG College of Arts and Science, Coimbatore - TNPCB-3379773\n",
            "19- Crescent University, Chengalpattu - TNPCB-3379758\n",
            "20- Alandur Bus Depot, Chennai - CPCB-3379568\n",
            "21- Keelapalur, Ariyalur - TNPCB-3379759\n",
            "22- Municipal Corporation Office, Tirunelveli - TNPCB-3379762\n",
            "23- Parisutham Nagar, Thanjavur - TNPCB-3379763\n",
            "24- Semmandalam, Cuddalore - TNPCB-3379764\n",
            "25- SIPCOT Phase-1, Hosur - TNPCB-3673147\n",
            "26- Uchapatti, Madurai - TNPCB-3379766\n",
            "27- Vasanthapuram, Vellore - TNPCB-3379767\n",
            "28- Velippalayam, Nagapattinam - TNPCB-3379768\n",
            "29- VOC Nagar_SIPCOT, Ranipet - TNPCB-3379769\n",
            "30- Kilambi, Kanchipuram - TNPCB-3379770\n",
            "31- Kudikadu, Cuddalore - TNPCB-3387105\n",
            "32- Sona College of Technology, Salem - TNPCB-3379772\n",
            "33- Bharathidasan University, Palkalaiperur - TNPCB-3379776\n",
            "34- Kamadenu Nagar, Karur - TNPCB-3379777\n",
            "35- St Joseph College, Tiruchirappalli - TNPCB-3379779\n",
            "36- SIPCOT Nathampannai, Pudukottai - TNPCB-3379926\n",
            "37- Collectorate Office, Virudhunagar - TNPCB-3379927\n",
            "38- SIPCOT Industrial Park, Perundurai - TNPCB-3379936\n",
            "39- Ponnusamy Nagar, Namakkal - TNPCB-3744663\n"
          ]
        }
      ],
      "source": [
        "unique_locations = filtered_df['location'].unique()\n",
        "print(\"Unique locations in the DataFrame:\")\n",
        "index = 0\n",
        "for loc in unique_locations:\n",
        "    index+=1\n",
        "    print(f\"{index}-\",loc)"
      ]
    },
    {
      "cell_type": "code",
      "execution_count": null,
      "metadata": {
        "id": "yeKu0VSCB3iN"
      },
      "outputs": [],
      "source": [
        "filtered_df.to_csv('AQ_Data_TN.csv', index=False)"
      ]
    }
  ],
  "metadata": {
    "colab": {
      "authorship_tag": "ABX9TyP/Rsor/7Fhl/Go5DlBcZts",
      "include_colab_link": true,
      "mount_file_id": "1CKr5DUIoUVKTKm3w5aGwE5kwYAjI-Q_Y",
      "provenance": []
    },
    "kernelspec": {
      "display_name": "Python 3",
      "name": "python3"
    },
    "language_info": {
      "codemirror_mode": {
        "name": "ipython",
        "version": 3
      },
      "file_extension": ".py",
      "mimetype": "text/x-python",
      "name": "python",
      "nbconvert_exporter": "python",
      "pygments_lexer": "ipython3",
      "version": "3.13.7"
    }
  },
  "nbformat": 4,
  "nbformat_minor": 0
}
